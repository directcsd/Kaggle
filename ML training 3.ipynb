{
 "cells": [
  {
   "cell_type": "markdown",
   "metadata": {},
   "source": [
    "# Episode 7 - Basic MNIST with tf.contrib.learn\n",
    "\n",
    "This code is tested against TensorFlow 0.10.0rc0. You can find a docker image here: https://hub.docker.com/r/tensorflow/tensorflow/"
   ]
  },
  {
   "cell_type": "code",
   "execution_count": 1,
   "metadata": {
    "collapsed": true
   },
   "outputs": [],
   "source": [
    "import numpy as np\n",
    "import matplotlib.pyplot as plt\n",
    "%matplotlib inline\n",
    "import tensorflow as tf\n",
    "learn = tf.contrib.learn\n",
    "tf.logging.set_verbosity(tf.logging.ERROR)"
   ]
  },
  {
   "cell_type": "markdown",
   "metadata": {},
   "source": [
    "## Import the dataset"
   ]
  },
  {
   "cell_type": "code",
   "execution_count": 2,
   "metadata": {},
   "outputs": [
    {
     "name": "stdout",
     "output_type": "stream",
     "text": [
      "Extracting MNIST-data\\train-images-idx3-ubyte.gz\n",
      "Extracting MNIST-data\\train-labels-idx1-ubyte.gz\n",
      "Extracting MNIST-data\\t10k-images-idx3-ubyte.gz\n",
      "Extracting MNIST-data\\t10k-labels-idx1-ubyte.gz\n"
     ]
    }
   ],
   "source": [
    "mnist = learn.datasets.load_dataset('mnist')\n",
    "data = mnist.train.images\n",
    "labels = np.asarray(mnist.train.labels, dtype=np.int32)\n",
    "test_data = mnist.test.images\n",
    "test_labels = np.asarray(mnist.test.labels, dtype=np.int32)"
   ]
  },
  {
   "cell_type": "markdown",
   "metadata": {},
   "source": [
    "There are 55k examples in train, and 10k in eval. You may wish to limit the size to experiment faster. "
   ]
  },
  {
   "cell_type": "code",
   "execution_count": 3,
   "metadata": {
    "collapsed": true
   },
   "outputs": [],
   "source": [
    "max_examples = 10000\n",
    "data = data[:max_examples]\n",
    "labels = labels[:max_examples]"
   ]
  },
  {
   "cell_type": "markdown",
   "metadata": {},
   "source": [
    "## Display some digits"
   ]
  },
  {
   "cell_type": "code",
   "execution_count": 4,
   "metadata": {
    "collapsed": true
   },
   "outputs": [],
   "source": [
    "def display(i):\n",
    "    img = test_data[i]\n",
    "    plt.title('Example %d. Label: %d' % (i, test_labels[i]))\n",
    "    plt.imshow(img.reshape((28,28)), cmap=plt.cm.gray_r)    "
   ]
  },
  {
   "cell_type": "code",
   "execution_count": 5,
   "metadata": {},
   "outputs": [
    {
     "data": {
      "image/png": "[encoded data removed]",
      "text/plain": [
       "<matplotlib.figure.Figure at 0x178da5b1048>"
      ]
     },
     "metadata": {},
     "output_type": "display_data"
    }
   ],
   "source": [
    "display(0)"
   ]
  },
  {
   "cell_type": "code",
   "execution_count": 6,
   "metadata": {},
   "outputs": [
    {
     "data": {
      "image/png": "[encoded data removed]",
      "text/plain": [
       "<matplotlib.figure.Figure at 0x178e0610eb8>"
      ]
     },
     "metadata": {},
     "output_type": "display_data"
    }
   ],
   "source": [
    "display(1)"
   ]
  },
  {
   "cell_type": "markdown",
   "metadata": {},
   "source": [
    "These digits are clearly drawn. Here's one that's not."
   ]
  },
  {
   "cell_type": "code",
   "execution_count": 7,
   "metadata": {},
   "outputs": [
    {
     "data": {
      "image/png": "[encoded data removed]",
      "text/plain": [
       "<matplotlib.figure.Figure at 0x178e0b48470>"
      ]
     },
     "metadata": {},
     "output_type": "display_data"
    }
   ],
   "source": [
    "display(8)"
   ]
  },
  {
   "cell_type": "markdown",
   "metadata": {},
   "source": [
    "Now let's take a look at how many features we have."
   ]
  },
  {
   "cell_type": "code",
   "execution_count": 8,
   "metadata": {},
   "outputs": [
    {
     "name": "stdout",
     "output_type": "stream",
     "text": [
      "784\n"
     ]
    }
   ],
   "source": [
    "print (len(data[0]))"
   ]
  },
  {
   "cell_type": "markdown",
   "metadata": {},
   "source": [
    "## Fit a Linear Classifier\n",
    "\n",
    "Our goal here is to get about 90% accuracy with this simple classifier. For more details on how these work, see https://www.tensorflow.org/versions/r0.10/tutorials/mnist/beginners/index.html#mnist-for-ml-beginners"
   ]
  },
  {
   "cell_type": "code",
   "execution_count": 9,
   "metadata": {},
   "outputs": [
    {
     "data": {
      "text/plain": [
       "LinearClassifier(params={'head': <tensorflow.contrib.learn.python.learn.estimators.head._MultiClassHead object at 0x00000178E0BC28D0>, 'feature_columns': [_RealValuedColumn(column_name='', dimension=784, default_value=None, dtype=tf.float32, normalizer=None)], 'optimizer': None, 'gradient_clip_norm': None, 'joint_weights': False})"
      ]
     },
     "execution_count": 9,
     "metadata": {},
     "output_type": "execute_result"
    }
   ],
   "source": [
    "feature_columns = learn.infer_real_valued_columns_from_input(data)\n",
    "classifier = learn.LinearClassifier(feature_columns=feature_columns, n_classes=10)\n",
    "classifier.fit(data, labels, batch_size=100, steps=1000)"
   ]
  },
  {
   "cell_type": "markdown",
   "metadata": {},
   "source": [
    "## Evaluate accuracy"
   ]
  },
  {
   "cell_type": "code",
   "execution_count": 10,
   "metadata": {},
   "outputs": [
    {
     "name": "stdout",
     "output_type": "stream",
     "text": [
      "0.9137\n"
     ]
    }
   ],
   "source": [
    "classifier.evaluate(test_data, test_labels)\n",
    "print (classifier.evaluate(test_data, test_labels)[\"accuracy\"])"
   ]
  },
  {
   "cell_type": "markdown",
   "metadata": {},
   "source": [
    "## Classify a few examples\n",
    "\n",
    "We can make predictions on individual images using the predict method"
   ]
  },
  {
   "cell_type": "code",
   "execution_count": 19,
   "metadata": {},
   "outputs": [
    {
     "name": "stdout",
     "output_type": "stream",
     "text": [
      "7 7\n",
      "ERROR:tensorflow:==================================\n",
      "Object was never used (type <class 'tensorflow.python.framework.ops.Tensor'>):\n",
      "<tf.Tensor 'report_uninitialized_variables_1/boolean_mask/Gather:0' shape=(?,) dtype=string>\n",
      "If you want to mark it as used call its \"mark_used()\" method.\n",
      "It was originally created here:\n",
      "['File \"C:\\\\ProgramData\\\\Anaconda3\\\\lib\\\\runpy.py\", line 193, in _run_module_as_main\\n    \"__main__\", mod_spec)', 'File \"C:\\\\ProgramData\\\\Anaconda3\\\\lib\\\\runpy.py\", line 85, in _run_code\\n    exec(code, run_globals)', 'File \"C:\\\\ProgramData\\\\Anaconda3\\\\lib\\\\site-packages\\\\ipykernel_launcher.py\", line 16, in <module>\\n    app.launch_new_instance()', 'File \"C:\\\\ProgramData\\\\Anaconda3\\\\lib\\\\site-packages\\\\traitlets\\\\config\\\\application.py\", line 658, in launch_instance\\n    app.start()', 'File \"C:\\\\ProgramData\\\\Anaconda3\\\\lib\\\\site-packages\\\\ipykernel\\\\kernelapp.py\", line 477, in start\\n    ioloop.IOLoop.instance().start()', 'File \"C:\\\\ProgramData\\\\Anaconda3\\\\lib\\\\site-packages\\\\zmq\\\\eventloop\\\\ioloop.py\", line 177, in start\\n    super(ZMQIOLoop, self).start()', 'File \"C:\\\\ProgramData\\\\Anaconda3\\\\lib\\\\site-packages\\\\tornado\\\\ioloop.py\", line 888, in start\\n    handler_func(fd_obj, events)', 'File \"C:\\\\ProgramData\\\\Anaconda3\\\\lib\\\\site-packages\\\\tornado\\\\stack_context.py\", line 277, in null_wrapper\\n    return fn(*args, **kwargs)', 'File \"C:\\\\ProgramData\\\\Anaconda3\\\\lib\\\\site-packages\\\\zmq\\\\eventloop\\\\zmqstream.py\", line 440, in _handle_events\\n    self._handle_recv()', 'File \"C:\\\\ProgramData\\\\Anaconda3\\\\lib\\\\site-packages\\\\zmq\\\\eventloop\\\\zmqstream.py\", line 472, in _handle_recv\\n    self._run_callback(callback, msg)', 'File \"C:\\\\ProgramData\\\\Anaconda3\\\\lib\\\\site-packages\\\\zmq\\\\eventloop\\\\zmqstream.py\", line 414, in _run_callback\\n    callback(*args, **kwargs)', 'File \"C:\\\\ProgramData\\\\Anaconda3\\\\lib\\\\site-packages\\\\tornado\\\\stack_context.py\", line 277, in null_wrapper\\n    return fn(*args, **kwargs)', 'File \"C:\\\\ProgramData\\\\Anaconda3\\\\lib\\\\site-packages\\\\ipykernel\\\\kernelbase.py\", line 283, in dispatcher\\n    return self.dispatch_shell(stream, msg)', 'File \"C:\\\\ProgramData\\\\Anaconda3\\\\lib\\\\site-packages\\\\ipykernel\\\\kernelbase.py\", line 235, in dispatch_shell\\n    handler(stream, idents, msg)', 'File \"C:\\\\ProgramData\\\\Anaconda3\\\\lib\\\\site-packages\\\\ipykernel\\\\kernelbase.py\", line 399, in execute_request\\n    user_expressions, allow_stdin)', 'File \"C:\\\\ProgramData\\\\Anaconda3\\\\lib\\\\site-packages\\\\ipykernel\\\\ipkernel.py\", line 196, in do_execute\\n    res = shell.run_cell(code, store_history=store_history, silent=silent)', 'File \"C:\\\\ProgramData\\\\Anaconda3\\\\lib\\\\site-packages\\\\ipykernel\\\\zmqshell.py\", line 533, in run_cell\\n    return super(ZMQInteractiveShell, self).run_cell(*args, **kwargs)', 'File \"C:\\\\ProgramData\\\\Anaconda3\\\\lib\\\\site-packages\\\\IPython\\\\core\\\\interactiveshell.py\", line 2698, in run_cell\\n    interactivity=interactivity, compiler=compiler, result=result)', 'File \"C:\\\\ProgramData\\\\Anaconda3\\\\lib\\\\site-packages\\\\IPython\\\\core\\\\interactiveshell.py\", line 2802, in run_ast_nodes\\n    if self.run_code(code, result):', 'File \"C:\\\\ProgramData\\\\Anaconda3\\\\lib\\\\site-packages\\\\IPython\\\\core\\\\interactiveshell.py\", line 2862, in run_code\\n    exec(code_obj, self.user_global_ns, self.user_ns)', 'File \"<ipython-input-13-945bd792df8f>\", line 2, in <module>\\n    print (\"Predicted %d, Label: %d\" % (classifier.predict(list(test_data)[0]), test_labels[0]))', 'File \"C:\\\\ProgramData\\\\Anaconda3\\\\lib\\\\site-packages\\\\tensorflow\\\\python\\\\util\\\\deprecation.py\", line 347, in new_func\\n    return func(*args, **kwargs)', 'File \"C:\\\\ProgramData\\\\Anaconda3\\\\lib\\\\site-packages\\\\tensorflow\\\\python\\\\util\\\\deprecation.py\", line 347, in new_func\\n    return func(*args, **kwargs)', 'File \"C:\\\\ProgramData\\\\Anaconda3\\\\lib\\\\site-packages\\\\tensorflow\\\\contrib\\\\learn\\\\python\\\\learn\\\\estimators\\\\linear.py\", line 530, in predict\\n    as_iterable=as_iterable)', 'File \"C:\\\\ProgramData\\\\Anaconda3\\\\lib\\\\site-packages\\\\tensorflow\\\\python\\\\util\\\\deprecation.py\", line 347, in new_func\\n    return func(*args, **kwargs)', 'File \"C:\\\\ProgramData\\\\Anaconda3\\\\lib\\\\site-packages\\\\tensorflow\\\\contrib\\\\learn\\\\python\\\\learn\\\\estimators\\\\linear.py\", line 565, in predict_classes\\n    as_iterable=as_iterable)', 'File \"C:\\\\ProgramData\\\\Anaconda3\\\\lib\\\\site-packages\\\\tensorflow\\\\python\\\\util\\\\deprecation.py\", line 289, in new_func\\n    return func(*args, **kwargs)', 'File \"C:\\\\ProgramData\\\\Anaconda3\\\\lib\\\\site-packages\\\\tensorflow\\\\contrib\\\\learn\\\\python\\\\learn\\\\estimators\\\\estimator.py\", line 590, in predict\\n    as_iterable=as_iterable)', 'File \"C:\\\\ProgramData\\\\Anaconda3\\\\lib\\\\site-packages\\\\tensorflow\\\\contrib\\\\learn\\\\python\\\\learn\\\\estimators\\\\estimator.py\", line 890, in _infer_model\\n    config=self._session_config))', 'File \"C:\\\\ProgramData\\\\Anaconda3\\\\lib\\\\site-packages\\\\tensorflow\\\\python\\\\training\\\\monitored_session.py\", line 648, in __init__\\n    stop_grace_period_secs=stop_grace_period_secs)', 'File \"C:\\\\ProgramData\\\\Anaconda3\\\\lib\\\\site-packages\\\\tensorflow\\\\python\\\\training\\\\monitored_session.py\", line 477, in __init__\\n    self._sess = _RecoverableSession(self._coordinated_creator)', 'File \"C:\\\\ProgramData\\\\Anaconda3\\\\lib\\\\site-packages\\\\tensorflow\\\\python\\\\training\\\\monitored_session.py\", line 822, in __init__\\n    _WrappedSession.__init__(self, self._create_session())', 'File \"C:\\\\ProgramData\\\\Anaconda3\\\\lib\\\\site-packages\\\\tensorflow\\\\python\\\\training\\\\monitored_session.py\", line 827, in _create_session\\n    return self._sess_creator.create_session()', 'File \"C:\\\\ProgramData\\\\Anaconda3\\\\lib\\\\site-packages\\\\tensorflow\\\\python\\\\training\\\\monitored_session.py\", line 538, in create_session\\n    self.tf_sess = self._session_creator.create_session()', 'File \"C:\\\\ProgramData\\\\Anaconda3\\\\lib\\\\site-packages\\\\tensorflow\\\\python\\\\training\\\\monitored_session.py\", line 403, in create_session\\n    self._scaffold.finalize()', 'File \"C:\\\\ProgramData\\\\Anaconda3\\\\lib\\\\site-packages\\\\tensorflow\\\\python\\\\training\\\\monitored_session.py\", line 192, in finalize\\n    default_ready_for_local_init_op)', 'File \"C:\\\\ProgramData\\\\Anaconda3\\\\lib\\\\site-packages\\\\tensorflow\\\\python\\\\training\\\\monitored_session.py\", line 254, in get_or_default\\n    op = default_constructor()', 'File \"C:\\\\ProgramData\\\\Anaconda3\\\\lib\\\\site-packages\\\\tensorflow\\\\python\\\\training\\\\monitored_session.py\", line 189, in default_ready_for_local_init_op\\n    variables.global_variables())', 'File \"C:\\\\ProgramData\\\\Anaconda3\\\\lib\\\\site-packages\\\\tensorflow\\\\python\\\\util\\\\tf_should_use.py\", line 170, in wrapped\\n    return _add_should_use_warning(fn(*args, **kwargs))', 'File \"C:\\\\ProgramData\\\\Anaconda3\\\\lib\\\\site-packages\\\\tensorflow\\\\python\\\\util\\\\tf_should_use.py\", line 139, in _add_should_use_warning\\n    wrapped = TFShouldUseWarningWrapper(x)', 'File \"C:\\\\ProgramData\\\\Anaconda3\\\\lib\\\\site-packages\\\\tensorflow\\\\python\\\\util\\\\tf_should_use.py\", line 96, in __init__\\n    stack = [s.strip() for s in traceback.format_stack()]']\n",
      "==================================\n"
     ]
    },
    {
     "data": {
      "image/png": "[encoded data removed]",
      "text/plain": [
       "<matplotlib.figure.Figure at 0x178e1c8b358>"
      ]
     },
     "metadata": {},
     "output_type": "display_data"
    }
   ],
   "source": [
    "# here's one it gets right\n",
    "a = list(classifier.predict(test_data))[0]\n",
    "print ( a, test_labels[0])\n",
    "display(0)\n",
    "#print(a)\n",
    "#print(test_labels[0])"
   ]
  },
  {
   "cell_type": "code",
   "execution_count": 21,
   "metadata": {},
   "outputs": [
    {
     "name": "stdout",
     "output_type": "stream",
     "text": [
      "6 5\n"
     ]
    },
    {
     "data": {
      "image/png": "[encoded data removed]",
      "text/plain": [
       "<matplotlib.figure.Figure at 0x178e0b5df98>"
      ]
     },
     "metadata": {},
     "output_type": "display_data"
    }
   ],
   "source": [
    "# and one it gets wrong\n",
    "a = list(classifier.predict(test_data))[8]\n",
    "print (a, test_labels[8])\n",
    "display(8)"
   ]
  },
  {
   "cell_type": "markdown",
   "metadata": {},
   "source": [
    "## Visualize learned weights\n",
    "\n",
    "\n",
    "Let's see if we can reproduce the pictures of the weights in the TensorFlow Basic MNSIT <a href=\"https://www.tensorflow.org/tutorials/mnist/beginners/index.html#mnist-for-ml-beginners\">tutorial</a>. "
   ]
  },
  {
   "cell_type": "code",
   "execution_count": 22,
   "metadata": {},
   "outputs": [
    {
     "ename": "AttributeError",
     "evalue": "'tuple' object has no attribute 'T'",
     "output_type": "error",
     "traceback": [
      "\u001b[1;31m---------------------------------------------------------------------------\u001b[0m",
      "\u001b[1;31mAttributeError\u001b[0m                            Traceback (most recent call last)",
      "\u001b[1;32m<ipython-input-22-744cd4707055>\u001b[0m in \u001b[0;36m<module>\u001b[1;34m()\u001b[0m\n\u001b[0;32m      3\u001b[0m \u001b[1;32mfor\u001b[0m \u001b[0mi\u001b[0m \u001b[1;32min\u001b[0m \u001b[0mrange\u001b[0m\u001b[1;33m(\u001b[0m\u001b[0mlen\u001b[0m\u001b[1;33m(\u001b[0m\u001b[0maxes\u001b[0m\u001b[1;33m)\u001b[0m\u001b[1;33m)\u001b[0m\u001b[1;33m:\u001b[0m\u001b[1;33m\u001b[0m\u001b[0m\n\u001b[0;32m      4\u001b[0m     \u001b[0ma\u001b[0m \u001b[1;33m=\u001b[0m \u001b[0maxes\u001b[0m\u001b[1;33m[\u001b[0m\u001b[0mi\u001b[0m\u001b[1;33m]\u001b[0m\u001b[1;33m\u001b[0m\u001b[0m\n\u001b[1;32m----> 5\u001b[1;33m     \u001b[0ma\u001b[0m\u001b[1;33m.\u001b[0m\u001b[0mimshow\u001b[0m\u001b[1;33m(\u001b[0m\u001b[0mweights\u001b[0m\u001b[1;33m.\u001b[0m\u001b[0mT\u001b[0m\u001b[1;33m[\u001b[0m\u001b[0mi\u001b[0m\u001b[1;33m]\u001b[0m\u001b[1;33m.\u001b[0m\u001b[0mreshape\u001b[0m\u001b[1;33m(\u001b[0m\u001b[1;36m28\u001b[0m\u001b[1;33m,\u001b[0m \u001b[1;36m28\u001b[0m\u001b[1;33m)\u001b[0m\u001b[1;33m,\u001b[0m \u001b[0mcmap\u001b[0m\u001b[1;33m=\u001b[0m\u001b[0mplt\u001b[0m\u001b[1;33m.\u001b[0m\u001b[0mcm\u001b[0m\u001b[1;33m.\u001b[0m\u001b[0mseismic\u001b[0m\u001b[1;33m)\u001b[0m\u001b[1;33m\u001b[0m\u001b[0m\n\u001b[0m\u001b[0;32m      6\u001b[0m     \u001b[0ma\u001b[0m\u001b[1;33m.\u001b[0m\u001b[0mset_title\u001b[0m\u001b[1;33m(\u001b[0m\u001b[0mi\u001b[0m\u001b[1;33m)\u001b[0m\u001b[1;33m\u001b[0m\u001b[0m\n\u001b[0;32m      7\u001b[0m     \u001b[0ma\u001b[0m\u001b[1;33m.\u001b[0m\u001b[0mset_xticks\u001b[0m\u001b[1;33m(\u001b[0m\u001b[1;33m(\u001b[0m\u001b[1;33m)\u001b[0m\u001b[1;33m)\u001b[0m \u001b[1;31m# ticks be gone\u001b[0m\u001b[1;33m\u001b[0m\u001b[0m\n",
      "\u001b[1;31mAttributeError\u001b[0m: 'tuple' object has no attribute 'T'"
     ]
    },
    {
     "data": {
      "image/png": "[encoded data removed]",
      "text/plain": [
       "<matplotlib.figure.Figure at 0x178e1ec7da0>"
      ]
     },
     "metadata": {},
     "output_type": "display_data"
    }
   ],
   "source": [
    "weights = classifier.weights_f, axes = plt.subplots(2, 5, figsize=(10,4))\n",
    "axes = axes.reshape(-1)\n",
    "for i in range(len(axes)):\n",
    "    a = axes[i]\n",
    "    a.imshow(weights.T[i].reshape(28, 28), cmap=plt.cm.seismic)\n",
    "    a.set_title(i)\n",
    "    a.set_xticks(()) # ticks be gone\n",
    "    a.set_yticks(())\n",
    "plt.show()"
   ]
  },
  {
   "cell_type": "markdown",
   "metadata": {},
   "source": [
    "# Next steps\n",
    "\n",
    "* TensorFlow Docker images: https://hub.docker.com/r/tensorflow/tensorflow/ \n",
    "* TF.Learn Quickstart: https://www.tensorflow.org/versions/r0.9/tutorials/tflearn/index.html\n",
    "* MNIST tutorial: https://www.tensorflow.org/tutorials/mnist/beginners/index.html\n",
    "* Visualizating MNIST: http://colah.github.io/posts/2014-10-Visualizing-MNIST/\n",
    "* Additional notebooks: https://github.com/tensorflow/tensorflow/tree/master/tensorflow/tools/docker/notebooks\n",
    "* More about linear classifiers: https://www.tensorflow.org/versions/r0.10/tutorials/linear/overview.html#large-scale-linear-models-with-tensorflow\n",
    "* Much more about linear classifiers: http://cs231n.github.io/linear-classify/\n",
    "* Additional TF.Learn samples: https://github.com/tensorflow/tensorflow/tree/master/tensorflow/examples/skflow"
   ]
  }
 ],
 "metadata": {
  "kernelspec": {
   "display_name": "Python 3",
   "language": "python",
   "name": "python3"
  },
  "language_info": {
   "codemirror_mode": {
    "name": "ipython",
    "version": 3
   },
   "file_extension": ".py",
   "mimetype": "text/x-python",
   "name": "python",
   "nbconvert_exporter": "python",
   "pygments_lexer": "ipython3",
   "version": "3.6.2"
  }
 },
 "nbformat": 4,
 "nbformat_minor": 1
}
