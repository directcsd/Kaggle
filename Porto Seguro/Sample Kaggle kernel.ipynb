{
 "cells": [
  {
   "cell_type": "code",
   "execution_count": 1,
   "metadata": {},
   "outputs": [
    {
     "name": "stderr",
     "output_type": "stream",
     "text": [
      "C:\\ProgramData\\Anaconda3\\envs\\tensorflow\\lib\\site-packages\\sklearn\\cross_validation.py:41: DeprecationWarning: This module was deprecated in version 0.18 in favor of the model_selection module into which all the refactored classes and functions are moved. Also note that the interface of the new CV iterators are different from that of this module. This module will be removed in 0.20.\n",
      "  \"This module will be removed in 0.20.\", DeprecationWarning)\n"
     ]
    }
   ],
   "source": [
    "import numpy as np\n",
    "import pandas as pd\n",
    "from sklearn.metrics import roc_curve,auc\n",
    "from sklearn.model_selection import train_test_split\n",
    "\n",
    "import xgboost as xgb\n",
    "import lightgbm as lgb\n",
    "from multiprocessing import Pool, cpu_count"
   ]
  },
  {
   "cell_type": "code",
   "execution_count": 2,
   "metadata": {
    "collapsed": true
   },
   "outputs": [],
   "source": [
    "train = pd.read_csv('train.gz')\n",
    "test = pd.read_csv('test.gz')"
   ]
  },
  {
   "cell_type": "code",
   "execution_count": 3,
   "metadata": {
    "collapsed": true
   },
   "outputs": [],
   "source": [
    "train = train.replace(-1, np.NaN)\n",
    "d_median = train.median(axis=0)\n",
    "d_mean = train.mean(axis=0)\n",
    "train = train.fillna(-1)\n",
    "one_hot = {c: list(train[c].unique()) for c in train.columns if c not in ['id','target']}"
   ]
  },
  {
   "cell_type": "code",
   "execution_count": 4,
   "metadata": {
    "collapsed": true
   },
   "outputs": [],
   "source": [
    "def transform_df(df):\n",
    "    df = pd.DataFrame(df)\n",
    "    dcol = [c for c in df.columns if c not in ['id','target']]\n",
    "    df['ps_car_13_x_ps_reg_03'] = df['ps_car_13'] * df['ps_reg_03']\n",
    "    df['negative_one_vals'] = np.sum((df[dcol]==-1).values, axis=1)\n",
    "    for c in dcol:\n",
    "        if '_bin' not in c: #standard arithmetic\n",
    "            df[c+str('_median_range')] = (df[c].values > d_median[c]).astype(np.int)\n",
    "            df[c+str('_mean_range')] = (df[c].values > d_mean[c]).astype(np.int)\n",
    "            #df[c+str('_sq')] = np.power(df[c].values,2).astype(np.float32)\n",
    "            #df[c+str('_sqr')] = np.square(df[c].values).astype(np.float32)\n",
    "            #df[c+str('_log')] = np.log(np.abs(df[c].values) + 1)\n",
    "            #df[c+str('_exp')] = np.exp(df[c].values) - 1\n",
    "    for c in one_hot:\n",
    "        if len(one_hot[c])>2 and len(one_hot[c]) < 7:\n",
    "            for val in one_hot[c]:\n",
    "                df[c+'_oh_' + str(val)] = (df[c].values == val).astype(np.int)\n",
    "    return df"
   ]
  },
  {
   "cell_type": "code",
   "execution_count": null,
   "metadata": {
    "collapsed": true
   },
   "outputs": [],
   "source": [
    "def multi_transform(df):\n",
    "    print('Init Shape: ', df.shape)\n",
    "    p = Pool(cpu_count())\n",
    "    print(cpu_count())\n",
    "    df = p.map(transform_df, np.array_split(df, cpu_count()))\n",
    "    df = pd.concat(df, axis=0, ignore_index=True).reset_index(drop=True)\n",
    "    p.close(); p.join()\n",
    "    print('After Shape: ', df.shape)\n",
    "    return df"
   ]
  },
  {
   "cell_type": "code",
   "execution_count": null,
   "metadata": {
    "collapsed": true
   },
   "outputs": [],
   "source": []
  },
  {
   "cell_type": "code",
   "execution_count": 5,
   "metadata": {
    "collapsed": true
   },
   "outputs": [],
   "source": [
    "def gini(y, pred):\n",
    "    fpr, tpr, thr = roc_curve(y, pred, pos_label=1)\n",
    "    g = 2 * auc(fpr, tpr) -1\n",
    "    return g"
   ]
  },
  {
   "cell_type": "code",
   "execution_count": 6,
   "metadata": {
    "collapsed": true
   },
   "outputs": [],
   "source": [
    "def gini_xgb(pred, y):\n",
    "    y = y.get_label()\n",
    "    return 'gini', gini(y, pred)"
   ]
  },
  {
   "cell_type": "code",
   "execution_count": 7,
   "metadata": {
    "collapsed": true
   },
   "outputs": [],
   "source": [
    "params = {'eta': 0.02, 'max_depth': 4, 'objective': 'binary:logistic', 'subsample': 0.8, 'colsample_bytree': 0.8, 'min_child_weight': 0.77, 'scale_pos_weight': 1.6, 'gamma': 10, 'reg_alpha': 8, 'reg_lambda': 1.3, 'eval_metric': 'auc', 'seed': 99, 'silent': True}\n",
    "x1, x2, y1, y2 = train_test_split(train, train['target'], test_size=0.25, random_state=99)"
   ]
  },
  {
   "cell_type": "code",
   "execution_count": 8,
   "metadata": {
    "collapsed": true
   },
   "outputs": [],
   "source": [
    "#x1 = multi_transform(x1)\n",
    "#x2 = multi_transform(x2)\n",
    "#test = multi_transform(test)\n",
    "\n",
    "x1 = transform_df(x1)\n",
    "x2 = transform_df(x2)\n",
    "test = transform_df(test)"
   ]
  },
  {
   "cell_type": "code",
   "execution_count": 9,
   "metadata": {},
   "outputs": [
    {
     "name": "stdout",
     "output_type": "stream",
     "text": [
      "(446409, 189) (148803, 189)\n"
     ]
    }
   ],
   "source": [
    "col = [c for c in x1.columns if c not in ['id','target']]\n",
    "col = [c for c in col if not c.startswith('ps_calc_')]\n",
    "print(x1.values.shape, x2.values.shape)"
   ]
  },
  {
   "cell_type": "code",
   "execution_count": 11,
   "metadata": {},
   "outputs": [
    {
     "name": "stdout",
     "output_type": "stream",
     "text": [
      "(446409, 189) (148803, 189)\n"
     ]
    }
   ],
   "source": [
    "#remove duplicates just in case\n",
    "#tdups = multi_transform(train)\n",
    "tdups = transform_df(train)\n",
    "dups = tdups[tdups.duplicated(subset=col, keep=False)]\n",
    "\n",
    "x1 = x1[~(x1['id'].isin(dups['id'].values))]\n",
    "x2 = x2[~(x2['id'].isin(dups['id'].values))]\n",
    "print(x1.values.shape, x2.values.shape)"
   ]
  },
  {
   "cell_type": "code",
   "execution_count": 12,
   "metadata": {
    "collapsed": true
   },
   "outputs": [],
   "source": [
    "y1 = x1['target']\n",
    "y2 = x2['target']\n",
    "x1 = x1[col]\n",
    "x2 = x2[col]"
   ]
  },
  {
   "cell_type": "code",
   "execution_count": 13,
   "metadata": {},
   "outputs": [
    {
     "name": "stdout",
     "output_type": "stream",
     "text": [
      "[0]\ttrain-gini:0.160714\tvalid-gini:0.155906\n",
      "Multiple eval metrics have been passed: 'valid-gini' will be used for early stopping.\n",
      "\n",
      "Will train until valid-gini hasn't improved in 200 rounds.\n",
      "[50]\ttrain-gini:0.240407\tvalid-gini:0.236128\n",
      "[100]\ttrain-gini:0.252383\tvalid-gini:0.245\n",
      "[150]\ttrain-gini:0.267676\tvalid-gini:0.253018\n",
      "[200]\ttrain-gini:0.278681\tvalid-gini:0.259201\n",
      "[250]\ttrain-gini:0.287017\tvalid-gini:0.264416\n",
      "[300]\ttrain-gini:0.293689\tvalid-gini:0.268962\n",
      "[350]\ttrain-gini:0.299458\tvalid-gini:0.2723\n",
      "[400]\ttrain-gini:0.30407\tvalid-gini:0.274121\n",
      "[450]\ttrain-gini:0.307311\tvalid-gini:0.275897\n",
      "[500]\ttrain-gini:0.310462\tvalid-gini:0.277034\n",
      "[550]\ttrain-gini:0.313355\tvalid-gini:0.277711\n",
      "[600]\ttrain-gini:0.315898\tvalid-gini:0.278514\n",
      "[650]\ttrain-gini:0.318179\tvalid-gini:0.278938\n",
      "[700]\ttrain-gini:0.320075\tvalid-gini:0.279287\n",
      "[750]\ttrain-gini:0.322275\tvalid-gini:0.279825\n",
      "[800]\ttrain-gini:0.323857\tvalid-gini:0.280056\n",
      "[850]\ttrain-gini:0.325472\tvalid-gini:0.280408\n",
      "[900]\ttrain-gini:0.327018\tvalid-gini:0.280475\n",
      "[950]\ttrain-gini:0.328555\tvalid-gini:0.280479\n",
      "[1000]\ttrain-gini:0.329822\tvalid-gini:0.280573\n",
      "[1050]\ttrain-gini:0.331046\tvalid-gini:0.280694\n",
      "[1100]\ttrain-gini:0.3323\tvalid-gini:0.280828\n",
      "[1150]\ttrain-gini:0.333416\tvalid-gini:0.281001\n",
      "[1200]\ttrain-gini:0.334511\tvalid-gini:0.28115\n",
      "[1250]\ttrain-gini:0.335783\tvalid-gini:0.281216\n",
      "[1300]\ttrain-gini:0.337069\tvalid-gini:0.281418\n",
      "[1350]\ttrain-gini:0.338216\tvalid-gini:0.281376\n",
      "[1400]\ttrain-gini:0.339427\tvalid-gini:0.281464\n",
      "[1450]\ttrain-gini:0.340498\tvalid-gini:0.281354\n",
      "[1500]\ttrain-gini:0.34136\tvalid-gini:0.281441\n",
      "[1550]\ttrain-gini:0.342371\tvalid-gini:0.281525\n",
      "[1600]\ttrain-gini:0.343262\tvalid-gini:0.281659\n",
      "[1650]\ttrain-gini:0.344267\tvalid-gini:0.281699\n",
      "[1700]\ttrain-gini:0.345297\tvalid-gini:0.281744\n",
      "[1750]\ttrain-gini:0.346052\tvalid-gini:0.281733\n",
      "[1800]\ttrain-gini:0.346834\tvalid-gini:0.281613\n",
      "[1850]\ttrain-gini:0.347947\tvalid-gini:0.281638\n",
      "Stopping. Best iteration:\n",
      "[1685]\ttrain-gini:0.344937\tvalid-gini:0.281782\n",
      "\n"
     ]
    }
   ],
   "source": [
    "watchlist = [(xgb.DMatrix(x1, y1), 'train'), (xgb.DMatrix(x2, y2), 'valid')]\n",
    "model = xgb.train(params, xgb.DMatrix(x1, y1), 5000,  watchlist, feval=gini_xgb, maximize=True, verbose_eval=50, early_stopping_rounds=200)"
   ]
  },
  {
   "cell_type": "code",
   "execution_count": 14,
   "metadata": {
    "collapsed": true
   },
   "outputs": [],
   "source": [
    "test['target'] = model.predict(xgb.DMatrix(test[col]), ntree_limit=model.best_ntree_limit+45)\n",
    "test['target'] = (np.exp(test['target'].values) - 1.0).clip(0,1)"
   ]
  },
  {
   "cell_type": "code",
   "execution_count": 15,
   "metadata": {
    "collapsed": true
   },
   "outputs": [],
   "source": [
    "test[['id','target']].to_csv('xgb_submission.csv', index=False, float_format='%.5f')"
   ]
  },
  {
   "cell_type": "code",
   "execution_count": 16,
   "metadata": {
    "collapsed": true
   },
   "outputs": [],
   "source": [
    "#LightGBM\n",
    "def gini_lgb(preds, dtrain):\n",
    "    y = list(dtrain.get_label())\n",
    "    score = gini(y, preds) / gini(y, y)\n",
    "    return 'gini', score, True"
   ]
  },
  {
   "cell_type": "code",
   "execution_count": 17,
   "metadata": {
    "collapsed": true
   },
   "outputs": [],
   "source": [
    "params = {'learning_rate': 0.02, 'max_depth': 4, 'boosting': 'gbdt', 'objective': 'binary', 'max_bin': 10, 'subsample': 0.8, 'subsample_freq': 10, 'colsample_bytree': 0.8, 'min_child_samples': 500, 'metric': 'auc', 'is_training_metric': False, 'seed': 99}"
   ]
  },
  {
   "cell_type": "code",
   "execution_count": 18,
   "metadata": {},
   "outputs": [
    {
     "name": "stdout",
     "output_type": "stream",
     "text": [
      "Training until validation scores don't improve for 200 rounds.\n",
      "[50]\tvalid_0's auc: 0.619807\tvalid_0's gini: 0.239614\n",
      "[100]\tvalid_0's auc: 0.622392\tvalid_0's gini: 0.244784\n",
      "[150]\tvalid_0's auc: 0.625078\tvalid_0's gini: 0.250156\n",
      "[200]\tvalid_0's auc: 0.628524\tvalid_0's gini: 0.257048\n",
      "[250]\tvalid_0's auc: 0.63162\tvalid_0's gini: 0.26324\n",
      "[300]\tvalid_0's auc: 0.634464\tvalid_0's gini: 0.268929\n",
      "[350]\tvalid_0's auc: 0.636321\tvalid_0's gini: 0.272643\n",
      "[400]\tvalid_0's auc: 0.637643\tvalid_0's gini: 0.275286\n",
      "[450]\tvalid_0's auc: 0.638319\tvalid_0's gini: 0.276638\n",
      "[500]\tvalid_0's auc: 0.639261\tvalid_0's gini: 0.278522\n",
      "[550]\tvalid_0's auc: 0.639561\tvalid_0's gini: 0.279121\n",
      "[600]\tvalid_0's auc: 0.640341\tvalid_0's gini: 0.280683\n",
      "[650]\tvalid_0's auc: 0.640551\tvalid_0's gini: 0.281102\n",
      "[700]\tvalid_0's auc: 0.640748\tvalid_0's gini: 0.281495\n",
      "[750]\tvalid_0's auc: 0.640659\tvalid_0's gini: 0.281317\n",
      "[800]\tvalid_0's auc: 0.640597\tvalid_0's gini: 0.281194\n",
      "[850]\tvalid_0's auc: 0.640909\tvalid_0's gini: 0.281818\n",
      "[900]\tvalid_0's auc: 0.640972\tvalid_0's gini: 0.281943\n",
      "[950]\tvalid_0's auc: 0.641138\tvalid_0's gini: 0.282276\n",
      "[1000]\tvalid_0's auc: 0.641192\tvalid_0's gini: 0.282384\n"
     ]
    }
   ],
   "source": [
    "model2 = lgb.train(params, lgb.Dataset(x1, label=y1), 1000, lgb.Dataset(x2, label=y2), verbose_eval=50, feval=gini_lgb, early_stopping_rounds=200)\n"
   ]
  },
  {
   "cell_type": "code",
   "execution_count": 19,
   "metadata": {
    "collapsed": true
   },
   "outputs": [],
   "source": [
    "test['target'] = model2.predict(test[col], num_iteration=model2.best_iteration)\n",
    "test['target'] = (np.exp(test['target'].values) - 1.0).clip(0,1)"
   ]
  },
  {
   "cell_type": "code",
   "execution_count": 20,
   "metadata": {
    "collapsed": true
   },
   "outputs": [],
   "source": [
    "test[['id','target']].to_csv('lgb_submission.csv', index=False, float_format='%.5f')"
   ]
  },
  {
   "cell_type": "code",
   "execution_count": 21,
   "metadata": {
    "collapsed": true
   },
   "outputs": [],
   "source": [
    "df1 = pd.read_csv('xgb_submission.csv')\n",
    "df2 = pd.read_csv('lgb_submission.csv')"
   ]
  },
  {
   "cell_type": "code",
   "execution_count": 22,
   "metadata": {
    "collapsed": true
   },
   "outputs": [],
   "source": [
    "df2.columns = [x+'_' if x not in ['id'] else x for x in df2.columns]\n",
    "blend = pd.merge(df1, df2, how='left', on='id')\n",
    "for c in df1.columns:\n",
    "    if c != 'id':\n",
    "        blend[c] = (blend[c] * 0.5)  + (blend[c+'_'] * 0.5)\n",
    "blend = blend[df1.columns]\n",
    "blend['target'] = (np.exp(blend['target'].values) - 1.0).clip(0,1)"
   ]
  },
  {
   "cell_type": "code",
   "execution_count": 23,
   "metadata": {
    "collapsed": true
   },
   "outputs": [],
   "source": [
    "blend.to_csv('blend1.csv', index=False, float_format='%.5f')"
   ]
  },
  {
   "cell_type": "code",
   "execution_count": null,
   "metadata": {
    "collapsed": true
   },
   "outputs": [],
   "source": []
  }
 ],
 "metadata": {
  "kernelspec": {
   "display_name": "Python 3",
   "language": "python",
   "name": "python3"
  },
  "language_info": {
   "codemirror_mode": {
    "name": "ipython",
    "version": 3
   },
   "file_extension": ".py",
   "mimetype": "text/x-python",
   "name": "python",
   "nbconvert_exporter": "python",
   "pygments_lexer": "ipython3",
   "version": "3.6.3"
  }
 },
 "nbformat": 4,
 "nbformat_minor": 2
}
