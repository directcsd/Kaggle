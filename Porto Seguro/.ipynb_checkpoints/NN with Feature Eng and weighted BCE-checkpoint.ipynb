{
 "cells": [
  {
   "cell_type": "code",
   "execution_count": 1,
   "metadata": {},
   "outputs": [
    {
     "name": "stderr",
     "output_type": "stream",
     "text": [
      "C:\\ProgramData\\Anaconda3\\envs\\tensorflow\\lib\\site-packages\\sklearn\\cross_validation.py:41: DeprecationWarning: This module was deprecated in version 0.18 in favor of the model_selection module into which all the refactored classes and functions are moved. Also note that the interface of the new CV iterators are different from that of this module. This module will be removed in 0.20.\n",
      "  \"This module will be removed in 0.20.\", DeprecationWarning)\n"
     ]
    }
   ],
   "source": [
    "import numpy as np\n",
    "import pandas as pd\n",
    "import itertools\n",
    "\n",
    "# machine learning models\n",
    "from sklearn.linear_model import LogisticRegression, Perceptron, SGDClassifier\n",
    "import xgboost as xgb\n",
    "import lightgbm as lgb\n",
    "\n",
    "#feature scaling\n",
    "from sklearn.preprocessing import StandardScaler, RobustScaler\n",
    "\n",
    "# Metrics\n",
    "from sklearn.metrics import roc_curve,auc\n",
    "\n",
    "# Utils\n",
    "from sklearn.model_selection import train_test_split"
   ]
  },
  {
   "cell_type": "code",
   "execution_count": 2,
   "metadata": {
    "collapsed": true
   },
   "outputs": [],
   "source": [
    "train = pd.read_csv('train.gz')\n",
    "test = pd.read_csv('test.gz')"
   ]
  },
  {
   "cell_type": "code",
   "execution_count": 3,
   "metadata": {},
   "outputs": [
    {
     "data": {
      "text/plain": [
       "0.036447517859182946"
      ]
     },
     "execution_count": 3,
     "metadata": {},
     "output_type": "execute_result"
    }
   ],
   "source": [
    "len(train.loc[train[\"target\"]==1])/ len(train)"
   ]
  },
  {
   "cell_type": "code",
   "execution_count": 4,
   "metadata": {
    "collapsed": true
   },
   "outputs": [],
   "source": [
    "train = train.replace(-1, np.NaN)\n",
    "d_median = train.median(axis=0)\n",
    "d_mean = train.mean(axis=0)\n",
    "train = train.fillna(-1)\n",
    "one_hot = {c: list(train[c].unique()) for c in train.columns if c not in ['id','target']}"
   ]
  },
  {
   "cell_type": "code",
   "execution_count": 5,
   "metadata": {
    "collapsed": true
   },
   "outputs": [],
   "source": [
    "def transform_df(df):\n",
    "    df = pd.DataFrame(df)\n",
    "    dcol = [c for c in df.columns if c not in ['id','target']]\n",
    "    df['ps_car_13_x_ps_reg_03'] = df['ps_car_13'] * df['ps_reg_03']\n",
    "    df['negative_one_vals'] = np.sum((df[dcol]==-1).values, axis=1)\n",
    "    for c in dcol:\n",
    "        if '_bin' not in c: #standard arithmetic\n",
    "            df[c+str('_median_range')] = (df[c].values > d_median[c]).astype(np.int)\n",
    "            df[c+str('_mean_range')] = (df[c].values > d_mean[c]).astype(np.int)\n",
    "            #df[c+str('_sq')] = np.power(df[c].values,2).astype(np.float32)\n",
    "            #df[c+str('_sqr')] = np.square(df[c].values).astype(np.float32)\n",
    "            #df[c+str('_log')] = np.log(np.abs(df[c].values) + 1)\n",
    "            #df[c+str('_exp')] = np.exp(df[c].values) - 1\n",
    "    for c in one_hot:\n",
    "        if len(one_hot[c])>2 and len(one_hot[c]) < 7:\n",
    "            for val in one_hot[c]:\n",
    "                df[c+'_oh_' + str(val)] = (df[c].values == val).astype(np.int)\n",
    "    return df"
   ]
  },
  {
   "cell_type": "code",
   "execution_count": 6,
   "metadata": {
    "collapsed": true
   },
   "outputs": [],
   "source": [
    "#def multi_transform(df):\n",
    "#    print('Init Shape: ', df.shape)\n",
    "#    p = Pool(cpu_count())\n",
    "#    df = p.map(transform_df, np.array_split(df, cpu_count()))\n",
    "#    df = pd.concat(df, axis=0, ignore_index=True).reset_index(drop=True)\n",
    "#    p.close(); p.join()\n",
    "#    print('After Shape: ', df.shape)\n",
    "#    return df"
   ]
  },
  {
   "cell_type": "code",
   "execution_count": null,
   "metadata": {
    "collapsed": true
   },
   "outputs": [],
   "source": []
  },
  {
   "cell_type": "code",
   "execution_count": 7,
   "metadata": {
    "collapsed": true
   },
   "outputs": [],
   "source": [
    "def gini(y, pred):\n",
    "    fpr, tpr, thr = roc_curve(y, pred, pos_label=1)\n",
    "    g = 2 * auc(fpr, tpr) -1\n",
    "    return g"
   ]
  },
  {
   "cell_type": "code",
   "execution_count": 8,
   "metadata": {
    "collapsed": true
   },
   "outputs": [],
   "source": [
    "#def gini_xgb(pred, y):\n",
    "#    y = y.get_label()\n",
    "#    return 'gini', gini(y, pred)"
   ]
  },
  {
   "cell_type": "code",
   "execution_count": 9,
   "metadata": {
    "collapsed": true
   },
   "outputs": [],
   "source": [
    "#LightGBM\n",
    "def gini_lgb(preds, dtrain):\n",
    "#    y = list(dtrain.get_label())\n",
    "    y = dtrain\n",
    "    score = gini(y, preds) / gini(y, y)\n",
    "#    return 'gini', score, True\n",
    "    return score"
   ]
  },
  {
   "cell_type": "code",
   "execution_count": 10,
   "metadata": {
    "collapsed": true
   },
   "outputs": [],
   "source": [
    "#params = {'eta': 0.02, 'max_depth': 4, 'objective': 'binary:logistic', 'subsample': 0.8, 'colsample_bytree': 0.8, 'min_child_weight': 0.77, 'scale_pos_weight': 1.6, 'gamma': 10, 'reg_alpha': 8, 'reg_lambda': 1.3, 'eval_metric': 'auc', 'seed': 99, 'silent': True}\n",
    "x1, x2, y1, y2 = train_test_split(train, train['target'], test_size=0.25, random_state=99)"
   ]
  },
  {
   "cell_type": "code",
   "execution_count": 11,
   "metadata": {
    "collapsed": true
   },
   "outputs": [],
   "source": [
    "#x1 = multi_transform(x1)\n",
    "#x2 = multi_transform(x2)\n",
    "#test = multi_transform(test)\n",
    "\n",
    "x1 = transform_df(x1)\n",
    "x2 = transform_df(x2)\n",
    "test = transform_df(test)"
   ]
  },
  {
   "cell_type": "code",
   "execution_count": 12,
   "metadata": {},
   "outputs": [
    {
     "name": "stdout",
     "output_type": "stream",
     "text": [
      "(892816, 188)\n"
     ]
    }
   ],
   "source": [
    "print(test.shape)"
   ]
  },
  {
   "cell_type": "code",
   "execution_count": 13,
   "metadata": {},
   "outputs": [
    {
     "name": "stdout",
     "output_type": "stream",
     "text": [
      "(446409, 189) (148803, 189)\n"
     ]
    }
   ],
   "source": [
    "col = [c for c in x1.columns if c not in ['id','target']]\n",
    "col = [c for c in col if not c.startswith('ps_calc_')]\n",
    "print(x1.values.shape, x2.values.shape)"
   ]
  },
  {
   "cell_type": "code",
   "execution_count": 14,
   "metadata": {},
   "outputs": [
    {
     "name": "stdout",
     "output_type": "stream",
     "text": [
      "(446409, 189) (148803, 189)\n"
     ]
    }
   ],
   "source": [
    "#remove duplicates just in case\n",
    "#tdups = multi_transform(train)\n",
    "tdups = transform_df(train)\n",
    "dups = tdups[tdups.duplicated(subset=col, keep=False)]\n",
    "\n",
    "x1 = x1[~(x1['id'].isin(dups['id'].values))]\n",
    "x2 = x2[~(x2['id'].isin(dups['id'].values))]\n",
    "print(x1.values.shape, x2.values.shape)"
   ]
  },
  {
   "cell_type": "code",
   "execution_count": 15,
   "metadata": {
    "collapsed": true
   },
   "outputs": [],
   "source": [
    "y1 = x1['target']\n",
    "y2 = x2['target']\n",
    "x1 = x1[col]\n",
    "x2 = x2[col]"
   ]
  },
  {
   "cell_type": "code",
   "execution_count": 19,
   "metadata": {},
   "outputs": [
    {
     "name": "stdout",
     "output_type": "stream",
     "text": [
      "Wall time: 55.5 s\n",
      "Wall time: 974 ms\n",
      "Wall time: 130 ms\n",
      "Exactitud en el dataset de validación: 0.6144\n"
     ]
    }
   ],
   "source": [
    "# Baseline logistic regression\n",
    "logreg = LogisticRegression(class_weight='balanced')\n",
    "%time logreg.fit(x1, y1)\n",
    "%time prediction = logreg.predict_proba(test[col])\n",
    "prediction_lg=prediction[:,1]\n",
    "\n",
    "%time score = logreg.score(x2, y2)\n",
    "print(\"Exactitud en el dataset de validación: %.4f\" % score)"
   ]
  },
  {
   "cell_type": "code",
   "execution_count": 20,
   "metadata": {},
   "outputs": [
    {
     "name": "stdout",
     "output_type": "stream",
     "text": [
      "Wall time: 125 ms\n",
      "Gini en el dataset de validación: 0.2572\n"
     ]
    }
   ],
   "source": [
    "%time gini_pred = logreg.predict_proba(x2)\n",
    "gini_pred = gini_pred[:,1]\n",
    "#gini_pred = (np.exp(gini_pred) - 1.0).clip(0,1)\n",
    "gini_score = gini(y2, gini_pred)\n",
    "print(\"Gini en el dataset de validación: %.4f\" % gini_score)"
   ]
  },
  {
   "cell_type": "code",
   "execution_count": 21,
   "metadata": {
    "collapsed": true
   },
   "outputs": [],
   "source": [
    "prediction_lg = (np.exp(prediction_lg) - 1.0).clip(0,1)"
   ]
  },
  {
   "cell_type": "code",
   "execution_count": 22,
   "metadata": {
    "collapsed": true
   },
   "outputs": [],
   "source": [
    "# limit tensorflow GPU memory usage\n",
    "\n",
    "import tensorflow as tf\n",
    "\n",
    "config = tf.ConfigProto()\n",
    "config.gpu_options.allow_growth = True\n",
    "session = tf.Session(config=config)"
   ]
  },
  {
   "cell_type": "code",
   "execution_count": 23,
   "metadata": {},
   "outputs": [
    {
     "name": "stderr",
     "output_type": "stream",
     "text": [
      "Using TensorFlow backend.\n"
     ]
    }
   ],
   "source": [
    "import keras.backend as K\n",
    "import tensorflow as tf\n",
    "\n",
    "# Lambdarank loss function\n",
    "def pair_loss(y_true, y_pred):\n",
    "    y_true = tf.cast(y_true, tf.int32)\n",
    "    parts = tf.dynamic_partition(y_pred, y_true, 2)\n",
    "    y_pos = parts[1]\n",
    "    y_neg = parts[0]\n",
    "    y_pos = tf.expand_dims(y_pos, 0)\n",
    "    y_neg = tf.expand_dims(y_neg, -1)\n",
    "    out = K.sigmoid(y_neg - y_pos)\n",
    "    return K.mean(out)"
   ]
  },
  {
   "cell_type": "code",
   "execution_count": 24,
   "metadata": {
    "collapsed": true
   },
   "outputs": [],
   "source": [
    "class WeightedBinaryCrossEntropy(object):\n",
    "\n",
    "    def __init__(self, pos_ratio):\n",
    "        neg_ratio = 1. - pos_ratio\n",
    "        self.pos_ratio = tf.constant(pos_ratio, tf.float32)\n",
    "        self.weights = tf.constant(neg_ratio / pos_ratio, tf.float32)\n",
    "        self.__name__ = \"weighted_binary_crossentropy({0})\".format(pos_ratio)\n",
    "\n",
    "    def __call__(self, y_true, y_pred):\n",
    "        return self.weighted_binary_crossentropy(y_true, y_pred)\n",
    "\n",
    "    def weighted_binary_crossentropy(self, y_true, y_pred):\n",
    "            # Transform to logits\n",
    "            epsilon = tf.convert_to_tensor(K.common._EPSILON, y_pred.dtype.base_dtype)\n",
    "            y_pred = tf.clip_by_value(y_pred, epsilon, 1 - epsilon)\n",
    "            y_pred = tf.log(y_pred / (1 - y_pred))\n",
    "\n",
    "            cost = tf.nn.weighted_cross_entropy_with_logits(y_true, y_pred, self.weights)\n",
    "            return K.mean(cost * self.pos_ratio, axis=-1)"
   ]
  },
  {
   "cell_type": "code",
   "execution_count": 55,
   "metadata": {
    "collapsed": true
   },
   "outputs": [],
   "source": [
    "inputs=tf.keras.layers.Input(shape=(133,))\n",
    "#x=tf.keras.layers.Dense(37, kernel_initializer='he_normal', bias_initializer='he_normal')(inputs)\n",
    "#x=tf.keras.layers.ELU()(x)\n",
    "#x=tf.keras.layers.BatchNormalization()(x)\n",
    "#x=tf.keras.layers.Dropout(0.5)(x)\n",
    "#x=tf.keras.layers.add([inputs,x])\n",
    "x=tf.keras.layers.Dense(8000, kernel_initializer='he_normal', bias_initializer='he_normal')(inputs)\n",
    "x=tf.keras.layers.ELU()(x)\n",
    "x=tf.keras.layers.BatchNormalization()(x)\n",
    "x=tf.keras.layers.Dropout(0.5)(x)\n",
    "x=tf.keras.layers.Dense(1000, kernel_initializer='he_normal', bias_initializer='he_normal')(x)\n",
    "x=tf.keras.layers.ELU()(x)\n",
    "x=tf.keras.layers.BatchNormalization()(x)\n",
    "x=tf.keras.layers.Dropout(0.5)(x)\n",
    "x=tf.keras.layers.Dense(500, kernel_initializer='he_normal', bias_initializer='he_normal')(x)\n",
    "x=tf.keras.layers.ELU()(x)\n",
    "x=tf.keras.layers.BatchNormalization()(x)\n",
    "x=tf.keras.layers.Dropout(0.5)(x)\n",
    "predictions=tf.keras.layers.Dense(1, activation='sigmoid')(x)\n",
    "model=tf.keras.models.Model(inputs=inputs, outputs=predictions)\n",
    "loss=WeightedBinaryCrossEntropy(0.036)\n",
    "model.compile(optimizer=tf.keras.optimizers.Nadam(),  \n",
    "              loss=loss,\n",
    "              #loss=pair_loss,\n",
    "              #optimizer=tf.keras.optimizers.SGD(lr=0.03, momentum=0.9, nesterov=True),\n",
    "              #metrics=['binary_accuracy']\n",
    "             )\n"
   ]
  },
  {
   "cell_type": "code",
   "execution_count": 56,
   "metadata": {},
   "outputs": [
    {
     "name": "stdout",
     "output_type": "stream",
     "text": [
      "_________________________________________________________________\n",
      "Layer (type)                 Output Shape              Param #   \n",
      "=================================================================\n",
      "input_5 (InputLayer)         (None, 133)               0         \n",
      "_________________________________________________________________\n",
      "dense_17 (Dense)             (None, 8000)              1072000   \n",
      "_________________________________________________________________\n",
      "elu_13 (ELU)                 (None, 8000)              0         \n",
      "_________________________________________________________________\n",
      "batch_normalization_13 (Batc (None, 8000)              32000     \n",
      "_________________________________________________________________\n",
      "dropout_13 (Dropout)         (None, 8000)              0         \n",
      "_________________________________________________________________\n",
      "dense_18 (Dense)             (None, 1000)              8001000   \n",
      "_________________________________________________________________\n",
      "elu_14 (ELU)                 (None, 1000)              0         \n",
      "_________________________________________________________________\n",
      "batch_normalization_14 (Batc (None, 1000)              4000      \n",
      "_________________________________________________________________\n",
      "dropout_14 (Dropout)         (None, 1000)              0         \n",
      "_________________________________________________________________\n",
      "dense_19 (Dense)             (None, 500)               500500    \n",
      "_________________________________________________________________\n",
      "elu_15 (ELU)                 (None, 500)               0         \n",
      "_________________________________________________________________\n",
      "batch_normalization_15 (Batc (None, 500)               2000      \n",
      "_________________________________________________________________\n",
      "dropout_15 (Dropout)         (None, 500)               0         \n",
      "_________________________________________________________________\n",
      "dense_20 (Dense)             (None, 1)                 501       \n",
      "=================================================================\n",
      "Total params: 9,612,001\n",
      "Trainable params: 9,593,001\n",
      "Non-trainable params: 19,000\n",
      "_________________________________________________________________\n",
      "None\n"
     ]
    }
   ],
   "source": [
    "print (model.summary())"
   ]
  },
  {
   "cell_type": "code",
   "execution_count": 57,
   "metadata": {
    "collapsed": true
   },
   "outputs": [],
   "source": [
    "from time import time\n",
    "\n",
    "tensorboard=tf.keras.callbacks.TensorBoard(log_dir=\"logs/{}\".format(time()))"
   ]
  },
  {
   "cell_type": "code",
   "execution_count": 58,
   "metadata": {
    "collapsed": true
   },
   "outputs": [],
   "source": [
    "# Normalize the data\n",
    "scaler=StandardScaler()\n",
    "\n",
    "x1_scaled = scaler.fit_transform(x1)\n",
    "x2_scaled = scaler.fit_transform(x2)\n",
    "test_scaled = scaler.fit_transform(test[col])"
   ]
  },
  {
   "cell_type": "code",
   "execution_count": 59,
   "metadata": {},
   "outputs": [
    {
     "name": "stdout",
     "output_type": "stream",
     "text": [
      "Wall time: 27min 37s\n",
      "Wall time: 2min 17s\n",
      "Wall time: 22.3 s\n",
      "Wall time: 1min 8s\n",
      "148704/148803 [============================>.] - ETA: 0s"
     ]
    }
   ],
   "source": [
    "with tf.Session() as sess:\n",
    "    sess.run(tf.global_variables_initializer())\n",
    "    %time temp=model.fit (x1_scaled, y1, validation_data=(x2_scaled,y2), callbacks=[tensorboard], epochs=10, batch_size=100, verbose=0)\n",
    "    %time prediction=model.predict(test_scaled)\n",
    "    %time val_prediction=model.predict(x2_scaled)\n",
    "    %time train_prediction=model.predict(x1_scaled)\n",
    "    scores=model.evaluate(x2_scaled,y2,verbose=1)\n",
    "    \n",
    "    #save model\n",
    "    model_json = model.to_json()\n",
    "    with open(\"nn_model.json\", \"w\") as json_file:\n",
    "        json_file.write(model_json)\n",
    "    # serialize weights to HDF5\n",
    "    model.save_weights(\"nn_model.h5\")\n",
    "\n"
   ]
  },
  {
   "cell_type": "code",
   "execution_count": 60,
   "metadata": {},
   "outputs": [
    {
     "name": "stdout",
     "output_type": "stream",
     "text": [
      "0.0466486885741 0.314909130667 0.269516218957\n"
     ]
    }
   ],
   "source": [
    "gini_score_t = gini(y1, train_prediction)    \n",
    "gini_score_v = gini(y2, val_prediction)    \n",
    "print(scores, gini_score_t, gini_score_v)"
   ]
  },
  {
   "cell_type": "code",
   "execution_count": 61,
   "metadata": {
    "collapsed": true
   },
   "outputs": [],
   "source": [
    "prediction_nn=prediction[:,0]"
   ]
  },
  {
   "cell_type": "code",
   "execution_count": 62,
   "metadata": {
    "collapsed": true
   },
   "outputs": [],
   "source": [
    "submission = pd.DataFrame({\n",
    "        \"id\": test[\"id\"],\n",
    "        \"target\": prediction_nn\n",
    "    })\n",
    "submission.to_csv('submission_nn_w_bce.csv', index=False)"
   ]
  },
  {
   "cell_type": "code",
   "execution_count": null,
   "metadata": {
    "collapsed": true
   },
   "outputs": [],
   "source": [
    "# Blending results"
   ]
  },
  {
   "cell_type": "code",
   "execution_count": null,
   "metadata": {
    "collapsed": true
   },
   "outputs": [],
   "source": [
    "#df1 = pd.read_csv('xgb_submission.csv')\n",
    "#df2 = pd.read_csv('lgb_submission.csv')"
   ]
  },
  {
   "cell_type": "code",
   "execution_count": null,
   "metadata": {
    "collapsed": true
   },
   "outputs": [],
   "source": [
    "#df2.columns = [x+'_' if x not in ['id'] else x for x in df2.columns]\n",
    "#blend = pd.merge(df1, df2, how='left', on='id')\n",
    "#for c in df1.columns:\n",
    "#    if c != 'id':\n",
    "#        blend[c] = (blend[c] * 0.5)  + (blend[c+'_'] * 0.5)\n",
    "#blend = blend[df1.columns]\n",
    "#blend['target'] = (np.exp(blend['target'].values) - 1.0).clip(0,1)"
   ]
  },
  {
   "cell_type": "code",
   "execution_count": null,
   "metadata": {
    "collapsed": true
   },
   "outputs": [],
   "source": [
    "#blend.to_csv('blend1.csv', index=False, float_format='%.5f')"
   ]
  },
  {
   "cell_type": "code",
   "execution_count": null,
   "metadata": {
    "collapsed": true
   },
   "outputs": [],
   "source": []
  }
 ],
 "metadata": {
  "kernelspec": {
   "display_name": "Python 3",
   "language": "python",
   "name": "python3"
  },
  "language_info": {
   "codemirror_mode": {
    "name": "ipython",
    "version": 3
   },
   "file_extension": ".py",
   "mimetype": "text/x-python",
   "name": "python",
   "nbconvert_exporter": "python",
   "pygments_lexer": "ipython3",
   "version": "3.6.3"
  }
 },
 "nbformat": 4,
 "nbformat_minor": 2
}
